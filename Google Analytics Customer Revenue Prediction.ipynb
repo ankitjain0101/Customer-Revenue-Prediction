{
 "cells": [
  {
   "cell_type": "markdown",
   "metadata": {},
   "source": [
    "# Customer Revenue Prediction\n"
   ]
  },
  {
   "cell_type": "code",
   "execution_count": 6,
   "metadata": {},
   "outputs": [],
   "source": [
    "import pandas as pd\n",
    "import numpy as np\n",
    "import seaborn as sns\n",
    "import matplotlib.pyplot as plt\n",
    "import json\n",
    "import collections\n",
    "from sklearn.preprocessing import LabelEncoder\n",
    "from lightgbm.sklearn import LGBMRegressor\n",
    "from sklearn.model_selection import train_test_split\n",
    "from sklearn.metrics import mean_absolute_error,mean_squared_error\n",
    "import lightgbm as lgbm\n",
    "import gc\n",
    "gc.enable()"
   ]
  },
  {
   "cell_type": "code",
   "execution_count": 7,
   "metadata": {},
   "outputs": [
    {
     "name": "stderr",
     "output_type": "stream",
     "text": [
      "C:\\Anaconda\\lib\\site-packages\\IPython\\core\\interactiveshell.py:3057: DtypeWarning: Columns (4) have mixed types. Specify dtype option on import or set low_memory=False.\n",
      "  interactivity=interactivity, compiler=compiler, result=result)\n"
     ]
    }
   ],
   "source": [
    "train = pd.read_csv('E:/College/Analytics/Python/GA-Revenue/train_v2.csv')"
   ]
  },
  {
   "cell_type": "code",
   "execution_count": 8,
   "metadata": {},
   "outputs": [
    {
     "data": {
      "text/plain": [
       "channelGrouping         object\n",
       "customDimensions        object\n",
       "date                     int64\n",
       "device                  object\n",
       "fullVisitorId           object\n",
       "geoNetwork              object\n",
       "hits                    object\n",
       "socialEngagementType    object\n",
       "totals                  object\n",
       "trafficSource           object\n",
       "visitId                  int64\n",
       "visitNumber              int64\n",
       "visitStartTime           int64\n",
       "dtype: object"
      ]
     },
     "execution_count": 8,
     "metadata": {},
     "output_type": "execute_result"
    }
   ],
   "source": [
    "train.dtypes"
   ]
  },
  {
   "cell_type": "code",
   "execution_count": null,
   "metadata": {},
   "outputs": [],
   "source": [
    "train.shape"
   ]
  },
  {
   "cell_type": "code",
   "execution_count": 9,
   "metadata": {},
   "outputs": [
    {
     "data": {
      "text/html": [
       "<div>\n",
       "<style scoped>\n",
       "    .dataframe tbody tr th:only-of-type {\n",
       "        vertical-align: middle;\n",
       "    }\n",
       "\n",
       "    .dataframe tbody tr th {\n",
       "        vertical-align: top;\n",
       "    }\n",
       "\n",
       "    .dataframe thead th {\n",
       "        text-align: right;\n",
       "    }\n",
       "</style>\n",
       "<table border=\"1\" class=\"dataframe\">\n",
       "  <thead>\n",
       "    <tr style=\"text-align: right;\">\n",
       "      <th></th>\n",
       "      <th>channelGrouping</th>\n",
       "      <th>customDimensions</th>\n",
       "      <th>date</th>\n",
       "      <th>device</th>\n",
       "      <th>fullVisitorId</th>\n",
       "      <th>geoNetwork</th>\n",
       "      <th>hits</th>\n",
       "      <th>socialEngagementType</th>\n",
       "      <th>totals</th>\n",
       "      <th>trafficSource</th>\n",
       "      <th>visitId</th>\n",
       "      <th>visitNumber</th>\n",
       "      <th>visitStartTime</th>\n",
       "    </tr>\n",
       "  </thead>\n",
       "  <tbody>\n",
       "    <tr>\n",
       "      <th>0</th>\n",
       "      <td>Organic Search</td>\n",
       "      <td>[{'index': '4', 'value': 'EMEA'}]</td>\n",
       "      <td>20171016</td>\n",
       "      <td>{\"browser\": \"Firefox\", \"browserVersion\": \"not ...</td>\n",
       "      <td>3162355547410993243</td>\n",
       "      <td>{\"continent\": \"Europe\", \"subContinent\": \"Weste...</td>\n",
       "      <td>[{'hitNumber': '1', 'time': '0', 'hour': '17',...</td>\n",
       "      <td>Not Socially Engaged</td>\n",
       "      <td>{\"visits\": \"1\", \"hits\": \"1\", \"pageviews\": \"1\",...</td>\n",
       "      <td>{\"campaign\": \"(not set)\", \"source\": \"google\", ...</td>\n",
       "      <td>1508198450</td>\n",
       "      <td>1</td>\n",
       "      <td>1508198450</td>\n",
       "    </tr>\n",
       "  </tbody>\n",
       "</table>\n",
       "</div>"
      ],
      "text/plain": [
       "  channelGrouping                   customDimensions      date  \\\n",
       "0  Organic Search  [{'index': '4', 'value': 'EMEA'}]  20171016   \n",
       "\n",
       "                                              device        fullVisitorId  \\\n",
       "0  {\"browser\": \"Firefox\", \"browserVersion\": \"not ...  3162355547410993243   \n",
       "\n",
       "                                          geoNetwork  \\\n",
       "0  {\"continent\": \"Europe\", \"subContinent\": \"Weste...   \n",
       "\n",
       "                                                hits  socialEngagementType  \\\n",
       "0  [{'hitNumber': '1', 'time': '0', 'hour': '17',...  Not Socially Engaged   \n",
       "\n",
       "                                              totals  \\\n",
       "0  {\"visits\": \"1\", \"hits\": \"1\", \"pageviews\": \"1\",...   \n",
       "\n",
       "                                       trafficSource     visitId  visitNumber  \\\n",
       "0  {\"campaign\": \"(not set)\", \"source\": \"google\", ...  1508198450            1   \n",
       "\n",
       "   visitStartTime  \n",
       "0      1508198450  "
      ]
     },
     "execution_count": 9,
     "metadata": {},
     "output_type": "execute_result"
    }
   ],
   "source": [
    "train.head(1)"
   ]
  },
  {
   "cell_type": "code",
   "execution_count": 10,
   "metadata": {},
   "outputs": [
    {
     "data": {
      "text/plain": [
       "visitStartTime          0\n",
       "visitNumber             0\n",
       "visitId                 0\n",
       "trafficSource           0\n",
       "totals                  0\n",
       "socialEngagementType    0\n",
       "hits                    0\n",
       "geoNetwork              0\n",
       "fullVisitorId           0\n",
       "device                  0\n",
       "date                    0\n",
       "customDimensions        0\n",
       "channelGrouping         0\n",
       "dtype: int64"
      ]
     },
     "execution_count": 10,
     "metadata": {},
     "output_type": "execute_result"
    }
   ],
   "source": [
    "train.isnull().sum().sort_values(ascending=False)"
   ]
  },
  {
   "cell_type": "code",
   "execution_count": 12,
   "metadata": {},
   "outputs": [
    {
     "data": {
      "text/plain": [
       "<matplotlib.axes._subplots.AxesSubplot at 0x1d000c439e8>"
      ]
     },
     "execution_count": 12,
     "metadata": {},
     "output_type": "execute_result"
    },
    {
     "data": {
      "image/png": "[encoded data removed]",
      "text/plain": [
       "<Figure size 576x576 with 1 Axes>"
      ]
     },
     "metadata": {
      "needs_background": "light"
     },
     "output_type": "display_data"
    }
   ],
   "source": [
    "train['channelGrouping'].value_counts().plot(kind=\"bar\",title=\"Channel Grouping Distrubution\",figsize=(8,8),rot=25)"
   ]
  },
  {
   "cell_type": "code",
   "execution_count": 13,
   "metadata": {},
   "outputs": [
    {
     "data": {
      "text/plain": [
       "Not Socially Engaged    1708337\n",
       "Name: socialEngagementType, dtype: int64"
      ]
     },
     "execution_count": 13,
     "metadata": {},
     "output_type": "execute_result"
    }
   ],
   "source": [
    "train['socialEngagementType'].value_counts()"
   ]
  },
  {
   "cell_type": "code",
   "execution_count": 14,
   "metadata": {},
   "outputs": [
    {
     "data": {
      "text/html": [
       "<div>\n",
       "<style scoped>\n",
       "    .dataframe tbody tr th:only-of-type {\n",
       "        vertical-align: middle;\n",
       "    }\n",
       "\n",
       "    .dataframe tbody tr th {\n",
       "        vertical-align: top;\n",
       "    }\n",
       "\n",
       "    .dataframe thead th {\n",
       "        text-align: right;\n",
       "    }\n",
       "</style>\n",
       "<table border=\"1\" class=\"dataframe\">\n",
       "  <thead>\n",
       "    <tr style=\"text-align: right;\">\n",
       "      <th></th>\n",
       "      <th>date</th>\n",
       "      <th>visitStartTime</th>\n",
       "    </tr>\n",
       "  </thead>\n",
       "  <tbody>\n",
       "    <tr>\n",
       "      <th>0</th>\n",
       "      <td>20171016</td>\n",
       "      <td>1508198450</td>\n",
       "    </tr>\n",
       "  </tbody>\n",
       "</table>\n",
       "</div>"
      ],
      "text/plain": [
       "       date  visitStartTime\n",
       "0  20171016      1508198450"
      ]
     },
     "execution_count": 14,
     "metadata": {},
     "output_type": "execute_result"
    }
   ],
   "source": [
    "train.head(1)[[\"date\",\"visitStartTime\"]]"
   ]
  },
  {
   "cell_type": "markdown",
   "metadata": {},
   "source": [
    "### Data Cleaning"
   ]
  },
  {
   "cell_type": "code",
   "execution_count": null,
   "metadata": {},
   "outputs": [],
   "source": [
    "train[\"date\"]=pd.to_datetime(train[\"date\"],format=\"%Y%m%d\")"
   ]
  },
  {
   "cell_type": "code",
   "execution_count": null,
   "metadata": {},
   "outputs": [],
   "source": [
    "list_of_devices = train['device'].apply(json.loads).tolist()\n",
    "keys = []\n",
    "for devices_iter in list_of_devices:\n",
    "    for list_element in list(devices_iter.keys()):\n",
    "        if list_element not in keys:\n",
    "            keys.append(list_element)\n",
    "            \n",
    "\"keys existed in device attribute are:{}\".format(keys)"
   ]
  },
  {
   "cell_type": "code",
   "execution_count": null,
   "metadata": {},
   "outputs": [],
   "source": [
    "device_df = pd.DataFrame(train.device.apply(json.loads).tolist())[[\"browser\",\"operatingSystem\",\"deviceCategory\",\"isMobile\"]]\n",
    "device_df.head(5)"
   ]
  },
  {
   "cell_type": "code",
   "execution_count": null,
   "metadata": {},
   "outputs": [],
   "source": [
    "list_of_devices = train['trafficSource'].apply(json.loads).tolist()\n",
    "keys = []\n",
    "for devices_iter in list_of_devices:\n",
    "    for list_element in list(devices_iter.keys()):\n",
    "        if list_element not in keys:\n",
    "            keys.append(list_element)\n",
    "            \n",
    "\"keys existed in trafficSource attribute are:{}\".format(keys)"
   ]
  },
  {
   "cell_type": "code",
   "execution_count": null,
   "metadata": {},
   "outputs": [],
   "source": [
    "traffic_source_df = pd.DataFrame(train.trafficSource.apply(json.loads).tolist())[[\"keyword\",\"medium\" , \"source\"]]\n",
    "traffic_source_df.head(5)"
   ]
  },
  {
   "cell_type": "code",
   "execution_count": null,
   "metadata": {},
   "outputs": [],
   "source": [
    "list_of_devices = train['geoNetwork'].apply(json.loads).tolist()\n",
    "keys = []\n",
    "for devices_iter in list_of_devices:\n",
    "    for list_element in list(devices_iter.keys()):\n",
    "        if list_element not in keys:\n",
    "            keys.append(list_element)\n",
    "            \n",
    "\"keys existed in geoNetwork attribute are:{}\".format(keys)"
   ]
  },
  {
   "cell_type": "code",
   "execution_count": null,
   "metadata": {},
   "outputs": [],
   "source": [
    "geo_df = pd.DataFrame(train.geoNetwork.apply(json.loads).tolist())[[\"continent\",\"subContinent\",\"country\",\"city\"]]\n",
    "geo_df.head(5)"
   ]
  },
  {
   "cell_type": "code",
   "execution_count": 3,
   "metadata": {},
   "outputs": [
    {
     "ename": "NameError",
     "evalue": "name 'train' is not defined",
     "output_type": "error",
     "traceback": [
      "\u001b[1;31m---------------------------------------------------------------------------\u001b[0m",
      "\u001b[1;31mNameError\u001b[0m                                 Traceback (most recent call last)",
      "\u001b[1;32m<ipython-input-3-779e62247f31>\u001b[0m in \u001b[0;36m<module>\u001b[1;34m\u001b[0m\n\u001b[1;32m----> 1\u001b[1;33m \u001b[0mlist_of_devices\u001b[0m \u001b[1;33m=\u001b[0m \u001b[0mtrain\u001b[0m\u001b[1;33m[\u001b[0m\u001b[1;34m'totals'\u001b[0m\u001b[1;33m]\u001b[0m\u001b[1;33m.\u001b[0m\u001b[0mapply\u001b[0m\u001b[1;33m(\u001b[0m\u001b[0mjson\u001b[0m\u001b[1;33m.\u001b[0m\u001b[0mloads\u001b[0m\u001b[1;33m)\u001b[0m\u001b[1;33m.\u001b[0m\u001b[0mtolist\u001b[0m\u001b[1;33m(\u001b[0m\u001b[1;33m)\u001b[0m\u001b[1;33m\u001b[0m\u001b[1;33m\u001b[0m\u001b[0m\n\u001b[0m\u001b[0;32m      2\u001b[0m \u001b[0mkeys\u001b[0m \u001b[1;33m=\u001b[0m \u001b[1;33m[\u001b[0m\u001b[1;33m]\u001b[0m\u001b[1;33m\u001b[0m\u001b[1;33m\u001b[0m\u001b[0m\n\u001b[0;32m      3\u001b[0m \u001b[1;32mfor\u001b[0m \u001b[0mdevices_iter\u001b[0m \u001b[1;32min\u001b[0m \u001b[0mlist_of_devices\u001b[0m\u001b[1;33m:\u001b[0m\u001b[1;33m\u001b[0m\u001b[1;33m\u001b[0m\u001b[0m\n\u001b[0;32m      4\u001b[0m     \u001b[1;32mfor\u001b[0m \u001b[0mlist_element\u001b[0m \u001b[1;32min\u001b[0m \u001b[0mlist\u001b[0m\u001b[1;33m(\u001b[0m\u001b[0mdevices_iter\u001b[0m\u001b[1;33m.\u001b[0m\u001b[0mkeys\u001b[0m\u001b[1;33m(\u001b[0m\u001b[1;33m)\u001b[0m\u001b[1;33m)\u001b[0m\u001b[1;33m:\u001b[0m\u001b[1;33m\u001b[0m\u001b[1;33m\u001b[0m\u001b[0m\n\u001b[0;32m      5\u001b[0m         \u001b[1;32mif\u001b[0m \u001b[0mlist_element\u001b[0m \u001b[1;32mnot\u001b[0m \u001b[1;32min\u001b[0m \u001b[0mkeys\u001b[0m\u001b[1;33m:\u001b[0m\u001b[1;33m\u001b[0m\u001b[1;33m\u001b[0m\u001b[0m\n",
      "\u001b[1;31mNameError\u001b[0m: name 'train' is not defined"
     ]
    }
   ],
   "source": [
    "list_of_devices = train['totals'].apply(json.loads).tolist()\n",
    "keys = []\n",
    "for devices_iter in list_of_devices:\n",
    "    for list_element in list(devices_iter.keys()):\n",
    "        if list_element not in keys:\n",
    "            keys.append(list_element)\n",
    "            \n",
    "\"keys existed in totals attribute are:{}\".format(keys)"
   ]
  },
  {
   "cell_type": "code",
   "execution_count": null,
   "metadata": {},
   "outputs": [],
   "source": [
    "totals_df = pd.DataFrame(train.totals.apply(json.loads).tolist())[[\"transactionRevenue\", \"newVisits\", \"bounces\", \"pageviews\", \"hits\"]]\n",
    "totals_df.head(5)"
   ]
  },
  {
   "cell_type": "markdown",
   "metadata": {},
   "source": [
    "### Data Visualization"
   ]
  },
  {
   "cell_type": "code",
   "execution_count": null,
   "metadata": {},
   "outputs": [],
   "source": [
    "sns.countplot(device_df['isMobile'])"
   ]
  },
  {
   "cell_type": "code",
   "execution_count": null,
   "metadata": {},
   "outputs": [],
   "source": [
    "sns.countplot(device_df['deviceCategory'])"
   ]
  },
  {
   "cell_type": "code",
   "execution_count": null,
   "metadata": {},
   "outputs": [],
   "source": [
    "device_df['operatingSystem'].value_counts().head(10).plot(kind=\"bar\",title=\"OS Distrubution\",figsize=(8,8),rot=25,color='teal')"
   ]
  },
  {
   "cell_type": "code",
   "execution_count": null,
   "metadata": {},
   "outputs": [],
   "source": [
    "device_df['browser'].value_counts().head(10).plot(kind=\"bar\",title=\"Browser Distrubution\",figsize=(8,8),rot=25)"
   ]
  },
  {
   "cell_type": "code",
   "execution_count": null,
   "metadata": {},
   "outputs": [],
   "source": [
    "plt.subplots(figsize=(7, 6))\n",
    "sns.countplot(geo_df[geo_df['continent']== \"Asia\"]['subContinent'])"
   ]
  },
  {
   "cell_type": "code",
   "execution_count": null,
   "metadata": {},
   "outputs": [],
   "source": [
    "geo_df[geo_df['continent']== \"Asia\"]['subContinent'].value_counts().plot(kind=\"bar\",title=\"Asia Distrubution\",figsize=(8,8),rot=0)"
   ]
  },
  {
   "cell_type": "code",
   "execution_count": null,
   "metadata": {},
   "outputs": [],
   "source": [
    "traffic_source_df[\"source\"].value_counts().head(10).plot(kind=\"bar\",title=\"source\",rot=75,color=\"teal\")"
   ]
  },
  {
   "cell_type": "code",
   "execution_count": null,
   "metadata": {},
   "outputs": [],
   "source": [
    "fig,axes = plt.subplots(1,2,figsize=(15,10))\n",
    "traffic_source_df[\"keyword\"].value_counts().head(10).plot(kind=\"bar\",ax=axes[0], title=\"keywords (total)\",color=\"yellow\")\n",
    "traffic_source_df[traffic_source_df[\"keyword\"] != \"(not provided)\"][\"keyword\"].value_counts().head(15).plot(kind=\"bar\",ax=axes[1],title=\"keywords (dropping NA)\",color=\"c\")"
   ]
  },
  {
   "cell_type": "code",
   "execution_count": null,
   "metadata": {},
   "outputs": [],
   "source": [
    "train[\"revenue\"] = pd.DataFrame(train.totals.apply(json.loads).tolist())[[\"transactionRevenue\"]]\n",
    "revdat_df = train[[\"revenue\", \"date\",\"visitNumber\"]].dropna()\n",
    "revdat_df[\"revenue\"] = revdat_df.revenue.astype(np.int64)\n",
    "plt.subplots(figsize=(20, 10))\n",
    "plt.plot(revdat_df.groupby(\"date\")[\"revenue\"].sum())"
   ]
  },
  {
   "cell_type": "code",
   "execution_count": null,
   "metadata": {},
   "outputs": [],
   "source": [
    "ab=revdat_df.groupby(\"date\").sum()\n",
    "fig, ax1 = plt.subplots(figsize=(20,10))\n",
    "t = ab.index\n",
    "s1 = ab[\"visitNumber\"]\n",
    "ax1.plot(t, s1, 'b-')\n",
    "ax1.set_xlabel('day')\n",
    "# Make the y-axis label, ticks and tick labels match the line color.\n",
    "ax1.set_ylabel('visitNumber', color='b')\n",
    "ax1.tick_params('y', colors='b')\n",
    "\n",
    "ax2 = ax1.twinx()\n",
    "s2 = ab[\"revenue\"]\n",
    "ax2.plot(t, s2, 'r--')\n",
    "ax2.set_ylabel('revenue', color='r')\n",
    "ax2.tick_params('y', colors='r')\n",
    "fig.tight_layout()"
   ]
  },
  {
   "cell_type": "code",
   "execution_count": null,
   "metadata": {},
   "outputs": [],
   "source": [
    "fig,ax = plt.subplots(figsize=(9,5))\n",
    "ax.set_title(\"Histogram of log(visitNumbers) \\n per session\")\n",
    "ax.set_ylabel(\"Repetition\")\n",
    "ax.set_xlabel(\"Log(visitNumber)\")\n",
    "ax.grid(color='b', linestyle='-', linewidth=0.1)\n",
    "ax.hist(np.log(train['visitNumber']))"
   ]
  },
  {
   "cell_type": "markdown",
   "metadata": {},
   "source": [
    "#### Most Common and Least Common"
   ]
  },
  {
   "cell_type": "code",
   "execution_count": null,
   "metadata": {},
   "outputs": [],
   "source": [
    "tmp_least_visitNumbers_list = collections.Counter(list(train.visitNumber)).most_common()[:-10-1:-1]\n",
    "tmp_most_visitNumbers_list = collections.Counter(list(train.visitNumber)).most_common(10)\n",
    "least_visitNumbers = []\n",
    "most_visitNumbers = []\n",
    "for i in tmp_least_visitNumbers_list:\n",
    "    least_visitNumbers.append(i[0])\n",
    "for i in tmp_most_visitNumbers_list:\n",
    "    most_visitNumbers.append(i[0])\n",
    "\"10 most_common visitNumbers are {} times and 10 least_common visitNumbers are {} times\".format(most_visitNumbers,least_visitNumbers)"
   ]
  },
  {
   "cell_type": "code",
   "execution_count": null,
   "metadata": {},
   "outputs": [],
   "source": [
    "train_all=pd.concat([train.drop([\"hits\"],axis=1),device_df,geo_df,traffic_source_df,totals_df],axis=1)\n",
    "train_all.dtypes"
   ]
  },
  {
   "cell_type": "code",
   "execution_count": null,
   "metadata": {},
   "outputs": [],
   "source": [
    "from datetime import datetime\n",
    "train_all[\"month\"] = train_all['date'].dt.month\n",
    "train_all['visitHour'] = (train_all['visitStartTime'].apply(lambda x: str(datetime.fromtimestamp(x).hour))).astype(int)"
   ]
  },
  {
   "cell_type": "code",
   "execution_count": null,
   "metadata": {},
   "outputs": [],
   "source": [
    "plt.figure(figsize=(10,5))\n",
    "sns.barplot(x='month', y=train_all['transactionRevenue'].astype(np.float), data=train_all)"
   ]
  },
  {
   "cell_type": "code",
   "execution_count": null,
   "metadata": {},
   "outputs": [],
   "source": [
    "plt.figure(figsize=(10,5))\n",
    "sns.barplot(x='visitHour', y=train_all['transactionRevenue'].astype(np.float), data=train_all)"
   ]
  },
  {
   "cell_type": "code",
   "execution_count": null,
   "metadata": {},
   "outputs": [],
   "source": [
    "train_all.visitNumber.value_counts().head(10).plot(kind=\"bar\",title=\"Vistor Numbers Distrubution\",figsize=(8,8),rot=25,color='teal')"
   ]
  },
  {
   "cell_type": "markdown",
   "metadata": {},
   "source": [
    "##### Final Dataframe"
   ]
  },
  {
   "cell_type": "code",
   "execution_count": null,
   "metadata": {},
   "outputs": [],
   "source": [
    "df_train = train_all.drop(['date','month','device','geoNetwork','trafficSource','totals','customDimensions', 'socialEngagementType', 'visitStartTime', 'visitId', 'fullVisitorId' , 'revenue'], axis=1)\n",
    "df_train.dtypes"
   ]
  },
  {
   "cell_type": "code",
   "execution_count": null,
   "metadata": {},
   "outputs": [],
   "source": [
    "df_train.isnull().sum().sort_values(ascending=False)"
   ]
  },
  {
   "cell_type": "code",
   "execution_count": null,
   "metadata": {},
   "outputs": [],
   "source": [
    "df_train=df_train.fillna(0)\n",
    "\n",
    "numerical_features = ['transactionRevenue','visitNumber', 'newVisits', 'bounces', 'pageviews', 'hits']\n",
    "\n",
    "for col in numerical_features:\n",
    "    df_train[col] = df_train[col].astype(np.float)"
   ]
  },
  {
   "cell_type": "code",
   "execution_count": null,
   "metadata": {},
   "outputs": [],
   "source": [
    "vst_rev=df_train.groupby('visitNumber')['transactionRevenue'].agg(['count','mean','sum'])\n",
    "vst_rev.columns = [\"count\", \"mean transaction\",\"total revenue\"]\n",
    "vst_rev = vst_rev.sort_values(by=\"count\", ascending=False)\n",
    "sns.barplot(y=vst_rev['total revenue'].head(10),x=vst_rev.index[:10])"
   ]
  },
  {
   "cell_type": "code",
   "execution_count": null,
   "metadata": {},
   "outputs": [],
   "source": [
    "sns.barplot(y=vst_rev['mean transaction'].head(10),x=vst_rev.index[:10])"
   ]
  },
  {
   "cell_type": "code",
   "execution_count": null,
   "metadata": {},
   "outputs": [],
   "source": [
    "def feat_plot(col):\n",
    "    pt = df_train.loc[:,[col, 'transactionRevenue']]\n",
    "    feat_vis=pt.groupby(col)['transactionRevenue'].agg(['count','mean'])\n",
    "    feat_vis.columns = [\"count\", \"mean transaction value\"]\n",
    "    feat_vis['total_revenue'] = feat_vis['count']*feat_vis['mean transaction value']\n",
    "    feat_vis = feat_vis.sort_values(by=\"count\", ascending=False)\n",
    "    plt.figure(figsize=(8, 16)) \n",
    "    plt.subplot(2,1,1)\n",
    "    sns.barplot(x=feat_vis['count'].head(10), y=feat_vis.index[:10])\n",
    "    plt.subplot(2,1,2)\n",
    "    sns.barplot(x=feat_vis['mean transaction value'].head(10), y=feat_vis.index[:10])"
   ]
  },
  {
   "cell_type": "code",
   "execution_count": null,
   "metadata": {},
   "outputs": [],
   "source": [
    "feat_plot('browser')"
   ]
  },
  {
   "cell_type": "code",
   "execution_count": null,
   "metadata": {},
   "outputs": [],
   "source": [
    "feat_plot('country')"
   ]
  },
  {
   "cell_type": "code",
   "execution_count": null,
   "metadata": {},
   "outputs": [],
   "source": [
    "feat_plot('operatingSystem')"
   ]
  },
  {
   "cell_type": "code",
   "execution_count": null,
   "metadata": {},
   "outputs": [],
   "source": [
    "from wordcloud import WordCloud\n",
    "source = df_train['source']\n",
    "wordcloud2 = WordCloud(width=800, height=400).generate(' '.join(source))\n",
    "plt.figure( figsize=(12,10) )\n",
    "plt.imshow(wordcloud2)\n",
    "plt.axis(\"off\")\n",
    "plt.show()"
   ]
  },
  {
   "cell_type": "code",
   "execution_count": null,
   "metadata": {},
   "outputs": [],
   "source": [
    "categorical_features = ['channelGrouping', 'browser', 'operatingSystem', 'deviceCategory', 'isMobile',\n",
    "                        'continent', 'subContinent', 'country', 'city', 'keyword', 'medium', 'source']    \n",
    "\n",
    "for col in categorical_features:\n",
    "    lbl = LabelEncoder()\n",
    "    lbl.fit(list(df_train[col].values.astype('str')))\n",
    "    df_train[col] = lbl.transform(list(df_train[col].values.astype('str')))\n"
   ]
  },
  {
   "cell_type": "markdown",
   "metadata": {},
   "source": [
    "### Light Gradient Boosting Model"
   ]
  },
  {
   "cell_type": "code",
   "execution_count": null,
   "metadata": {},
   "outputs": [],
   "source": [
    "X=df_train.drop(['transactionRevenue'], axis=1)\n",
    "y=np.log1p(df_train['transactionRevenue'])\n",
    "\n",
    "X_train, X_test, y_train, y_test = train_test_split(X, y, test_size = 0.25, random_state = 10)"
   ]
  },
  {
   "cell_type": "code",
   "execution_count": null,
   "metadata": {},
   "outputs": [],
   "source": [
    "params = {\n",
    "        \"objective\" : \"regression\",\n",
    "        \"metric\" : \"rmse\",\n",
    "        \"num_leaves\" : 30,\n",
    "        \"learning_rate\" : 0.1,\n",
    "        \"bagging_fraction\" : 0.7, \n",
    "        \"feature_fraction\" : 0.5,\n",
    "        \"bagging_frequency\" : 5,\n",
    "        \"bagging_seed\" : 2018,\n",
    "    }\n",
    "\n",
    "\n",
    "lgtrain = lgbm.Dataset(X_train, label=y_train)\n",
    "lgval = lgbm.Dataset(X_test, label=y_test)\n",
    "lgb_model = lgbm.train(params, lgtrain, valid_sets=[lgval], num_boost_round=2000, early_stopping_rounds=100, verbose_eval=100)\n",
    "pred_test = lgb_model.predict(X_test, num_iteration=lgb_model.best_iteration)"
   ]
  },
  {
   "cell_type": "code",
   "execution_count": null,
   "metadata": {},
   "outputs": [],
   "source": [
    "fig, ax = plt.subplots(figsize=(8,12))\n",
    "lgbm.plot_importance(lgb_model, max_num_features=30, height=0.8, ax=ax)\n",
    "ax.grid(False)\n",
    "plt.title(\"LightGBM - Feature Importance\", fontsize=15)\n",
    "plt.show()"
   ]
  },
  {
   "cell_type": "code",
   "execution_count": null,
   "metadata": {},
   "outputs": [],
   "source": [
    "grid= {\"min_child_weight\":[4,5,6],\"max_depth\":[-1,1,3,5], \"learning_rate\":[0.1,0.01,0.2]}\n",
    "lgb=LGBMRegressor(random_state=96,objective='regression',metric='rmse')\n",
    "gridsearch= GridSearchCV(lgb,param_grid=grid,cv=5)\n",
    "gridsearch.fit(X_train, y_train)\n",
    "print(gridsearch.best_score_)\n",
    "print(gridsearch.best_params_)"
   ]
  },
  {
   "cell_type": "code",
   "execution_count": null,
   "metadata": {},
   "outputs": [],
   "source": [
    "lgb= LGBMRegressor(objective='regression',metric='rmse',learning_rate=0.1,min_child_weight=4)\n",
    "lgb.fit(X_train, y_train)\n",
    "lgb_pred = lgb.predict(X_test)\n",
    "accuracy = lgb.score(X_test,y_test)\n",
    "'Accuracy: ' + str(np.round(accuracy*100, 2)) + '%'"
   ]
  },
  {
   "cell_type": "code",
   "execution_count": null,
   "metadata": {},
   "outputs": [],
   "source": [
    "mean_absolute_error(y_test, lgb_pred)"
   ]
  },
  {
   "cell_type": "code",
   "execution_count": null,
   "metadata": {},
   "outputs": [],
   "source": [
    "mean_squared_error(y_test, lgb_pred)"
   ]
  },
  {
   "cell_type": "code",
   "execution_count": null,
   "metadata": {},
   "outputs": [],
   "source": [
    "np.sqrt(mean_squared_error(y_test, lgb_pred))"
   ]
  },
  {
   "cell_type": "code",
   "execution_count": null,
   "metadata": {},
   "outputs": [],
   "source": [
    "coefs = pd.Series(lgb.feature_importances_, index = X_train.columns)\n",
    "imp_coefs = pd.concat([coefs.sort_values().head(10),coefs.sort_values().tail(10)])\n",
    "imp_coefs.plot(kind = \"barh\")\n",
    "plt.xlabel(\"LGB coefficient\", weight='bold')\n",
    "plt.title(\"Feature importance in the LightGB Model\", weight='bold')\n",
    "plt.show()"
   ]
  }
 ],
 "metadata": {
  "kernelspec": {
   "display_name": "Python 3",
   "language": "python",
   "name": "python3"
  },
  "language_info": {
   "codemirror_mode": {
    "name": "ipython",
    "version": 3
   },
   "file_extension": ".py",
   "mimetype": "text/x-python",
   "name": "python",
   "nbconvert_exporter": "python",
   "pygments_lexer": "ipython3",
   "version": "3.7.3"
  }
 },
 "nbformat": 4,
 "nbformat_minor": 2
}
